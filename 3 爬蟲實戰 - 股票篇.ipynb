{
 "cells": [
  {
   "cell_type": "markdown",
   "metadata": {},
   "source": [
    "# 爬蟲實戰 - 股票篇\n",
    "2020 我們真的體會了一場金融危機，既然大家都被標題騙來了，就看下去吧ヾ(●゜▽゜●)"
   ]
  },
  {
   "cell_type": "markdown",
   "metadata": {},
   "source": [
    "## Yahoo 股票及時報價\n",
    "\n",
    "教學篇我們提到網站框架越新、設計越潮，爬蟲的難度就會越高。先來看看一些金融網站的設計吧~\n",
    "1. Yahoo台灣 https://tw.stock.yahoo.com/\n",
    "2. Yahoo金融 https://finance.yahoo.com/quote/TW/\n",
    "3. 台灣證券交易所 https://www.twse.com.tw/zh/\n",
    "4. Trading Economics https://tradingeconomics.com\n",
    "\n",
    "這幾個網站對台積電(股票代號2330)的即時股價的頁面長這樣:\n",
    "1. Yahoo台灣 https://tw.stock.yahoo.com/q/q?s=2330 \n",
    "2. Yahoo金融 https://finance.yahoo.com/quote/2330.TW?p=2330.TW&.tsrc=fin-srch (可爬 需其他套件)\n",
    "3. 台灣證券交易所 https://www.twse.com.tw/zh/page/trading/exchange/STOCK_DAY.html (為動態查詢內容 同上)\n",
    "4. Trading Economics https://tradingeconomics.com/2330:tt (同上)\n",
    "\n",
    "[](pandas.read_html)\n",
    "[](https://www.twse.com.tw/exchangeReport/STOCK_DAY_AVG?response=html&date=20200220&stockNo=2330)\n",
    "[](https://www.twse.com.tw/exchangeReport/STOCK_DAY?response=json&date=20200220&stockNo=2330&_=1582185467917)"
   ]
  },
  {
   "cell_type": "markdown",
   "metadata": {},
   "source": [
    "## 目標: 擷取今日的開、高、低、收&昨收\n",
    "- 今天我們的對象是台積電，目標數字所在的欄位如下圖\n",
    "![](https://i.imgur.com/Rk3idyT.png)\n"
   ]
  },
  {
   "cell_type": "markdown",
   "metadata": {},
   "source": [
    "## 開始實作\n",
    "不管是多複雜的網頁爬蟲，我們一樣採取2步驟戰略:「先建立連線，再解析網頁」\n",
    "\n",
    "首先，我們先知道台灣yahoo網站的台積電網址，才能發出http請求已建立連線。"
   ]
  },
  {
   "cell_type": "code",
   "execution_count": 1,
   "metadata": {},
   "outputs": [
    {
     "data": {
      "text/plain": [
       "<Response [200]>"
      ]
     },
     "execution_count": 1,
     "metadata": {},
     "output_type": "execute_result"
    }
   ],
   "source": [
    "import requests\n",
    "\n",
    "url = \"https://tw.stock.yahoo.com/q/q?s=2330\"\n",
    "header = {\"user-agent\": \"Mozilla/5.0 (Windows NT 10.0; Win64; x64) AppleWebKit/537.36 (KHTML, like Gecko) Chrome/79.0.3945.130 Safari/537.36\"}\n",
    "\n",
    "res = requests.get(url, header)\n",
    "res"
   ]
  },
  {
   "cell_type": "markdown",
   "metadata": {},
   "source": [
    "### bs4 parser > find table\n",
    "第二步驟是透過BeautifulSoup套件來解析HTML網頁。"
   ]
  },
  {
   "cell_type": "code",
   "execution_count": 2,
   "metadata": {},
   "outputs": [],
   "source": [
    "from bs4 import BeautifulSoup\n",
    "\n",
    "soup = BeautifulSoup(res.text, \"html.parser\")"
   ]
  },
  {
   "cell_type": "markdown",
   "metadata": {},
   "source": [
    "其實解析完HTML網頁，你會發現好像沒甚麼頭緒，因為parse出來的標籤(tags)太多太亂了，還有混雜CSS、JavaScript在裡面(๑•́ ₃ •̀๑)\n",
    "\n",
    "但是我們知道目標資料都在一個表格裡面，表格在HTML格式中代表的標籤是`<table>`，先按下F12(或是滑鼠右鍵>檢查)嘗試找出`<table>`這個標籤在哪裡吧。順帶一提，表格`<table>`中的每一列是一個`<tr>`(table row)，每列中會有許多資料`<tr>`(table data)，資料的標題是`<th>`(table header)。\n",
    "\n",
    "```html\n",
    "<table>\n",
    "    <tr>\n",
    "        <th>欄位名稱</th>\n",
    "        <th>欄位名稱</th>\n",
    "        ...\n",
    "    </tr>\n",
    "    <tr>\n",
    "        <td>data</td>\n",
    "        <td>data</td>\n",
    "        ...\n",
    "    </tr>\n",
    "</table>\n",
    "```"
   ]
  },
  {
   "cell_type": "code",
   "execution_count": 3,
   "metadata": {},
   "outputs": [
    {
     "data": {
      "text/plain": [
       "6"
      ]
     },
     "execution_count": 3,
     "metadata": {},
     "output_type": "execute_result"
    }
   ],
   "source": [
    "# There's 6 tables in the HTML file\n",
    "len(soup.select(\"table\"))"
   ]
  },
  {
   "cell_type": "code",
   "execution_count": 4,
   "metadata": {},
   "outputs": [
    {
     "name": "stdout",
     "output_type": "stream",
     "text": [
      "<table border=\"2\" width=\"750\">\n",
      "<tr bgcolor=\"#fff0c1\">\n",
      "<th align=\"center\">股票<br/>代號</th>\n",
      "<th align=\"center\" width=\"55\">時間</th>\n",
      "<th align=\"center\" width=\"55\">成交</th>\n",
      "<th align=\"center\" width=\"55\">買進</th>\n",
      "<th align=\"center\" width=\"55\">賣出</th>\n",
      "<th align=\"center\" width=\"55\">漲跌</th>\n",
      "<th align=\"center\" width=\"55\">張數</th>\n",
      "<th align=\"center\" width=\"55\">昨收</th>\n",
      "<th align=\"center\" width=\"55\">開盤</th>\n",
      "<th align=\"center\" width=\"55\">最高</th>\n",
      "<th align=\"center\" width=\"55\">最低</th>\n",
      "<th align=\"center\">個股資料</th>\n",
      "</tr>\n",
      "<tr>\n",
      "<td align=\"center\" width=\"105\"><a href=\"/q/bc?s=2330\">2330台積電</a><br/><a href=\"/pf/pfsel?stocklist=2330;\"><font size=\"-1\">加到投資組合</font><br/></a></td>\n",
      "<td align=\"center\" bgcolor=\"#FFFfff\" nowrap=\"\">14:30</td>\n",
      "<td align=\"center\" bgcolor=\"#FFFfff\" nowrap=\"\"><b>325.0</b></td>\n",
      "<td align=\"center\" bgcolor=\"#FFFfff\" nowrap=\"\">324.5</td>\n",
      "<td align=\"center\" bgcolor=\"#FFFfff\" nowrap=\"\">325.0</td>\n",
      "<td align=\"center\" bgcolor=\"#FFFfff\" nowrap=\"\"><font color=\"#009900\">▽0.5\n",
      "                <td align=\"center\" bgcolor=\"#FFFfff\" nowrap=\"\">22,755</td>\n",
      "<td align=\"center\" bgcolor=\"#FFFfff\" nowrap=\"\">325.5</td>\n",
      "<td align=\"center\" bgcolor=\"#FFFfff\" nowrap=\"\">325.5</td>\n",
      "<td align=\"center\" bgcolor=\"#FFFfff\" nowrap=\"\">326.5</td>\n",
      "<td align=\"center\" bgcolor=\"#FFFfff\" nowrap=\"\">323.0</td>\n",
      "<td align=\"center\" class=\"tt\" width=\"137\">\n",
      "<a href=\"/q/ts?s=2330\">成交明細</a><br/><a href=\"/q/ta?s=2330\">技術</a>　<a href=\"/q/h?s=2330\">新聞</a><a href=\"/d/s/company_2330.html\"><br/>基本</a>　<a href=\"/d/s/credit_2330.html\">籌碼</a><a href=\"https://tw.rd.yahoo.com/referurl/stock/other/SIG=125v47s73/**https://tw.screener.finance.yahoo.net/screener/check.html?symid=2330\" style=\"color:red\" target=\"_blank\"><br/>個股健診</a></td></font></td> </tr>\n",
      "</table>\n"
     ]
    }
   ],
   "source": [
    "# Index = 2 (third one) is the one we want\n",
    "table = soup.select(\"table\")[2]\n",
    "print(table)"
   ]
  },
  {
   "cell_type": "markdown",
   "metadata": {},
   "source": [
    "### Try to get the latest market price\n",
    "\n",
    "在交易時間，成交價是上一筆交易的價格，如果在09:00-13:30執行程式，會看到價格一直在變動喔! \n",
    "\n",
    "所以說好的爬蟲能帶來先手優勢 (ﾉ∀`*)"
   ]
  },
  {
   "cell_type": "code",
   "execution_count": 5,
   "metadata": {},
   "outputs": [
    {
     "data": {
      "text/plain": [
       "<th align=\"center\" width=\"55\">成交</th>"
      ]
     },
     "execution_count": 5,
     "metadata": {},
     "output_type": "execute_result"
    }
   ],
   "source": [
    "table.select(\"tr\")[0].select(\"th\")[2]"
   ]
  },
  {
   "cell_type": "code",
   "execution_count": 6,
   "metadata": {},
   "outputs": [
    {
     "data": {
      "text/plain": [
       "'325.0'"
      ]
     },
     "execution_count": 6,
     "metadata": {},
     "output_type": "execute_result"
    }
   ],
   "source": [
    "table.select(\"tr\")[1].select(\"td\")[2].text"
   ]
  },
  {
   "cell_type": "markdown",
   "metadata": {},
   "source": [
    "### Get all the info we want"
   ]
  },
  {
   "cell_type": "code",
   "execution_count": 7,
   "metadata": {},
   "outputs": [],
   "source": [
    "row = table.select(\"tr\")[1].select(\"td\")\n",
    "\n",
    "vol  = row[6].text.replace(',', '')\n",
    "open = row[8].text\n",
    "high = row[9].text\n",
    "low  = row[10].text\n",
    "close= row[7].text\n",
    "adj_close = row[2].text"
   ]
  },
  {
   "cell_type": "code",
   "execution_count": 8,
   "metadata": {},
   "outputs": [
    {
     "data": {
      "text/plain": [
       "{'open': '325.5',\n",
       " 'high': '326.5',\n",
       " 'low': '323.0',\n",
       " 'close': '325.5',\n",
       " 'adj_close': '325.0',\n",
       " 'volumn': '22755'}"
      ]
     },
     "execution_count": 8,
     "metadata": {},
     "output_type": "execute_result"
    }
   ],
   "source": [
    "data = {\n",
    "    \"open\": open,\n",
    "    \"high\": high,\n",
    "    \"low\" : low,\n",
    "    \"close\": close,\n",
    "    \"adj_close\": adj_close,\n",
    "    \"volumn\": vol\n",
    "}\n",
    "data"
   ]
  },
  {
   "cell_type": "markdown",
   "metadata": {},
   "source": [
    "### But...我們不只想要看台積電的行情\n",
    "\n",
    "我們選yahoo台灣的網站來爬蟲是有原因的，觀察一下他的網址，是不是有什麼共通點呢? 若是國外Trading Economics網站，每種台股的網址就會變來變去 (我也不知道為什麼xd) \n",
    "- https://tw.stock.yahoo.com/q/q?s=2330\n",
    "- https://tw.stock.yahoo.com/q/q?s=2317\n",
    "\n",
    "為什麼要選網址相似度高、有規律性的網站呢? 一切的答案就是我們**一次想看很多標的的股價**然後還不用修改程式碼。(我就懶.jpg) \n",
    "- 2330 台積電\n",
    "- 2317 鴻海\n",
    "- 2884 玉山金\n",
    "- more...\n",
    "\n",
    "所以只要宣告一個list，裡面放想看的股票代碼。再寫一個函數(function)，它可以幫我們自動爬蟲list裡面的每一隻股票的行情，就完成我們的自動化爬蟲啦。這裡我們用到一個字串串接的技巧叫做[f-string](https://realpython.com/python-f-strings/)，第一次見過的同學可以學一下。\n",
    "```python\n",
    "# 股票列表\n",
    "stocks = [2330, 2317, ...] \n",
    "\n",
    "# 爬蟲函式\n",
    "def yahoo_stock_crawler():\n",
    "    return\n",
    "```"
   ]
  },
  {
   "cell_type": "code",
   "execution_count": 9,
   "metadata": {},
   "outputs": [],
   "source": [
    "import requests\n",
    "from bs4 import BeautifulSoup"
   ]
  },
  {
   "cell_type": "code",
   "execution_count": 10,
   "metadata": {},
   "outputs": [],
   "source": [
    "stocks = [2330, 2317, 2884]\n",
    "\n",
    "# 爬蟲函式\n",
    "def yahoo_stock_crawler(stock):\n",
    "    \n",
    "    # Send resquest\n",
    "    url = f\"https://tw.stock.yahoo.com/q/q?s={stock}\"\n",
    "    header = {\"user-agent\": \"Mozilla/5.0 (Windows NT 10.0; Win64; x64) AppleWebKit/537.36 (KHTML, like Gecko) Chrome/79.0.3945.130 Safari/537.36\"}\n",
    "    res = requests.get(url, header)\n",
    "    \n",
    "    # Parse HTML\n",
    "    soup = BeautifulSoup(res.text, \"html.parser\")\n",
    "    table = soup.select(\"table\")[2]\n",
    "    row = table.select(\"tr\")[1].select(\"td\")\n",
    "    \n",
    "    # Get info\n",
    "    name = row[0].text.replace(str(stock),'').replace('加到投資組合','')\n",
    "    vol  = row[6].text.replace(',', '')\n",
    "    openn= row[8].text\n",
    "    high = row[9].text\n",
    "    low  = row[10].text\n",
    "    close= row[7].text\n",
    "    adj_close = row[2].text\n",
    "    \n",
    "    return {\n",
    "            \"name\": name,\n",
    "            \"open\": openn,\n",
    "            \"high\": high,\n",
    "            \"low\" : low,\n",
    "            \"close\": close,\n",
    "            \"adj_close\": adj_close,\n",
    "            \"volumn\": vol\n",
    "           }"
   ]
  },
  {
   "cell_type": "markdown",
   "metadata": {},
   "source": [
    "接著我們用**迴圈**遍歷股票列表stocks，呼叫這個函式"
   ]
  },
  {
   "cell_type": "code",
   "execution_count": 11,
   "metadata": {},
   "outputs": [
    {
     "name": "stdout",
     "output_type": "stream",
     "text": [
      "台積電 {'open': '325.5', 'high': '326.5', 'low': '323.0', 'close': '325.5', 'adj_close': '325.0', 'volumn': '22755'}\n",
      "鴻海 {'open': '82.1', 'high': '82.2', 'low': '81.6', 'close': '82.8', 'adj_close': '81.7', 'volumn': '29651'}\n",
      "玉山金 {'open': '30.00', 'high': '30.10', 'low': '29.85', 'close': '30.00', 'adj_close': '29.85', 'volumn': '16666'}\n"
     ]
    }
   ],
   "source": [
    "stocks = [2330, 2317, 2884]\n",
    "result = []\n",
    "\n",
    "for stock in stocks:\n",
    "    # 呼叫函數\n",
    "    info = yahoo_stock_crawler(stock)\n",
    "    \n",
    "    # 印出結果\n",
    "    result.append(info.copy())\n",
    "    name = info.pop('name')\n",
    "    print(name, info)"
   ]
  },
  {
   "cell_type": "markdown",
   "metadata": {},
   "source": [
    "### 美化一下結果 d(d＇∀＇)"
   ]
  },
  {
   "cell_type": "code",
   "execution_count": 12,
   "metadata": {},
   "outputs": [
    {
     "data": {
      "text/html": [
       "<div>\n",
       "<style scoped>\n",
       "    .dataframe tbody tr th:only-of-type {\n",
       "        vertical-align: middle;\n",
       "    }\n",
       "\n",
       "    .dataframe tbody tr th {\n",
       "        vertical-align: top;\n",
       "    }\n",
       "\n",
       "    .dataframe thead th {\n",
       "        text-align: right;\n",
       "    }\n",
       "</style>\n",
       "<table border=\"1\" class=\"dataframe\">\n",
       "  <thead>\n",
       "    <tr style=\"text-align: right;\">\n",
       "      <th></th>\n",
       "      <th>adj_close</th>\n",
       "      <th>close</th>\n",
       "      <th>high</th>\n",
       "      <th>low</th>\n",
       "      <th>open</th>\n",
       "      <th>volumn</th>\n",
       "    </tr>\n",
       "    <tr>\n",
       "      <th>name</th>\n",
       "      <th></th>\n",
       "      <th></th>\n",
       "      <th></th>\n",
       "      <th></th>\n",
       "      <th></th>\n",
       "      <th></th>\n",
       "    </tr>\n",
       "  </thead>\n",
       "  <tbody>\n",
       "    <tr>\n",
       "      <th>台積電</th>\n",
       "      <td>325.0</td>\n",
       "      <td>325.5</td>\n",
       "      <td>326.5</td>\n",
       "      <td>323.0</td>\n",
       "      <td>325.5</td>\n",
       "      <td>22755</td>\n",
       "    </tr>\n",
       "    <tr>\n",
       "      <th>鴻海</th>\n",
       "      <td>81.7</td>\n",
       "      <td>82.8</td>\n",
       "      <td>82.2</td>\n",
       "      <td>81.6</td>\n",
       "      <td>82.1</td>\n",
       "      <td>29651</td>\n",
       "    </tr>\n",
       "    <tr>\n",
       "      <th>玉山金</th>\n",
       "      <td>29.85</td>\n",
       "      <td>30.00</td>\n",
       "      <td>30.10</td>\n",
       "      <td>29.85</td>\n",
       "      <td>30.00</td>\n",
       "      <td>16666</td>\n",
       "    </tr>\n",
       "  </tbody>\n",
       "</table>\n",
       "</div>"
      ],
      "text/plain": [
       "     adj_close  close   high    low   open volumn\n",
       "name                                             \n",
       "台積電      325.0  325.5  326.5  323.0  325.5  22755\n",
       "鴻海        81.7   82.8   82.2   81.6   82.1  29651\n",
       "玉山金      29.85  30.00  30.10  29.85  30.00  16666"
      ]
     },
     "execution_count": 12,
     "metadata": {},
     "output_type": "execute_result"
    }
   ],
   "source": [
    "import pandas as pd\n",
    "df = pd.DataFrame(result)\n",
    "df.set_index('name', inplace = True)\n",
    "df"
   ]
  }
 ],
 "metadata": {
  "kernelspec": {
   "display_name": "Python 3",
   "language": "python",
   "name": "python3"
  },
  "language_info": {
   "codemirror_mode": {
    "name": "ipython",
    "version": 3
   },
   "file_extension": ".py",
   "mimetype": "text/x-python",
   "name": "python",
   "nbconvert_exporter": "python",
   "pygments_lexer": "ipython3",
   "version": "3.7.4"
  }
 },
 "nbformat": 4,
 "nbformat_minor": 2
}

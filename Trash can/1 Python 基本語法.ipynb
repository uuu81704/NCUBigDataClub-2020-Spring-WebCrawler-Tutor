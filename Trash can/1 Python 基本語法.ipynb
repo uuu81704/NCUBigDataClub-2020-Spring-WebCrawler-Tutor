{
 "cells": [
  {
   "cell_type": "markdown",
   "metadata": {},
   "source": [
    "# Python基本語法\n",
    "\n",
    "這份教材是給有學過其他語言但沒學過Python，或是0基礎的同學的快速入門。只會教等等會用到的語法和資料結構唷!\n",
    "\n",
    "## 變數\n",
    "\n",
    "Python命名變數不用宣告型態，變數可以隨時轉換他儲存的型態，基本型態有int(整數) float(小數) str(字串)等"
   ]
  },
  {
   "cell_type": "code",
   "execution_count": 1,
   "metadata": {},
   "outputs": [
    {
     "name": "stdout",
     "output_type": "stream",
     "text": [
      "6668\n",
      "<class 'int'>\n"
     ]
    }
   ],
   "source": [
    "# 變數宣告\n",
    "num = 3.33\n",
    "num = 6666\n",
    "string = \"Hello my friend\"\n",
    "\n",
    "# 運算\n",
    "num = num + 1\n",
    "num += 1\n",
    "\n",
    "# 方法\n",
    "print(num)\n",
    "print(type(num))"
   ]
  },
  {
   "cell_type": "markdown",
   "metadata": {},
   "source": [
    "## 列表 List\n",
    "列表是一種資料結構，一個list可以儲存多個值(稱\"元素\")，而且很方便的是他可以儲存不同型態的值喔!\n",
    "\n",
    "另外list內元素都有編號(稱\"index\")，我們可藉由編號來取得元素，list的編號都是從0開始，所以第一個元素的編號是0。"
   ]
  },
  {
   "cell_type": "code",
   "execution_count": 2,
   "metadata": {},
   "outputs": [
    {
     "name": "stdout",
     "output_type": "stream",
     "text": [
      "Apple\n",
      "Melon\n",
      "8787\n",
      "Apple\n",
      "Melon\n",
      "8787\n"
     ]
    }
   ],
   "source": [
    "# list宣告\n",
    "fruits = [\"Apple\", \"Melon\", \"Guava\"]\n",
    "\n",
    "# list更改元素 > index = 2的元素改為8787，他是第3個元素唷\n",
    "fruits[2] = 8787\n",
    "\n",
    "# list取值\n",
    "print(fruits[0])\n",
    "print(fruits[1])\n",
    "print(fruits[2])\n",
    "\n",
    "# 迴圈和list\n",
    "for f in fruits:\n",
    "    print(f)"
   ]
  },
  {
   "cell_type": "markdown",
   "metadata": {},
   "source": [
    "## 函式 Function\n",
    "函式又稱函數，英文式function或是method。A function is a block of code which only runs when it is called。宣告方法如下:\n",
    "```python\n",
    "def 函數名稱():\n",
    "    內部的程式碼\n",
    "    ...\n",
    "    ...\n",
    "    return\n",
    "```\n",
    "連結 [w3schools.com Python Functions](https://www.w3schools.com/python/python_functions.asp)"
   ]
  },
  {
   "cell_type": "code",
   "execution_count": 3,
   "metadata": {},
   "outputs": [
    {
     "name": "stdout",
     "output_type": "stream",
     "text": [
      "Guava\n"
     ]
    }
   ],
   "source": [
    "# 定義函數\n",
    "def give_me_fruit():\n",
    "    print(\"Guava\")\n",
    "    \n",
    "# 呼叫函數\n",
    "give_me_fruit()"
   ]
  }
 ],
 "metadata": {
  "kernelspec": {
   "display_name": "Python 3",
   "language": "python",
   "name": "python3"
  },
  "language_info": {
   "codemirror_mode": {
    "name": "ipython",
    "version": 3
   },
   "file_extension": ".py",
   "mimetype": "text/x-python",
   "name": "python",
   "nbconvert_exporter": "python",
   "pygments_lexer": "ipython3",
   "version": "3.6.5"
  }
 },
 "nbformat": 4,
 "nbformat_minor": 2
}

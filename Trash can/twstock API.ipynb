{
 "cells": [
  {
   "cell_type": "markdown",
   "metadata": {},
   "source": [
    "# 現成API: TW_Stock的應用 \n",
    "- https://pypi.org/project/twstock/\n",
    "- https://twstock.readthedocs.io/zh_TW/latest/"
   ]
  },
  {
   "cell_type": "code",
   "execution_count": 1,
   "metadata": {},
   "outputs": [
    {
     "data": {
      "text/plain": [
       "'2330'"
      ]
     },
     "execution_count": 1,
     "metadata": {},
     "output_type": "execute_result"
    }
   ],
   "source": [
    "import twstock\n",
    "stock = twstock.Stock('2330')\n",
    "stock.sid  # 回傳股票代號"
   ]
  },
  {
   "cell_type": "code",
   "execution_count": 5,
   "metadata": {
    "collapsed": true
   },
   "outputs": [
    {
     "data": {
      "text/plain": [
       "[340.0,\n",
       " 334.5,\n",
       " 333.0,\n",
       " 333.0,\n",
       " 316.5,\n",
       " 320.0,\n",
       " 315.0,\n",
       " 325.0,\n",
       " 327.5,\n",
       " 332.5,\n",
       " 328.0,\n",
       " 327.5,\n",
       " 331.5,\n",
       " 335.0,\n",
       " 335.0,\n",
       " 335.0,\n",
       " 331.5,\n",
       " 322.0,\n",
       " 326.5,\n",
       " 325.5,\n",
       " 325.0,\n",
       " 320.0,\n",
       " 322.0,\n",
       " 318.5,\n",
       " 316.0,\n",
       " 311.0,\n",
       " 317.5,\n",
       " 320.5,\n",
       " 323.0,\n",
       " 315.0,\n",
       " 305.5]"
      ]
     },
     "execution_count": 5,
     "metadata": {},
     "output_type": "execute_result"
    }
   ],
   "source": [
    "stock.price  # 回傳各日之收盤價"
   ]
  },
  {
   "cell_type": "code",
   "execution_count": 4,
   "metadata": {
    "collapsed": true
   },
   "outputs": [
    {
     "data": {
      "text/plain": [
       "[345.0,\n",
       " 336.5,\n",
       " 335.5,\n",
       " 335.5,\n",
       " 326.0,\n",
       " 323.5,\n",
       " 316.5,\n",
       " 326.0,\n",
       " 329.5,\n",
       " 332.5,\n",
       " 330.5,\n",
       " 328.0,\n",
       " 332.5,\n",
       " 336.0,\n",
       " 338.0,\n",
       " 337.0,\n",
       " 333.0,\n",
       " 326.5,\n",
       " 327.0,\n",
       " 329.0,\n",
       " 326.5,\n",
       " 321.5,\n",
       " 323.5,\n",
       " 320.5,\n",
       " 320.0,\n",
       " 317.0,\n",
       " 320.0,\n",
       " 322.0,\n",
       " 326.0,\n",
       " 320.5,\n",
       " 310.0]"
      ]
     },
     "execution_count": 4,
     "metadata": {},
     "output_type": "execute_result"
    }
   ],
   "source": [
    "stock.high  # 回傳各日之最高價"
   ]
  },
  {
   "cell_type": "code",
   "execution_count": 7,
   "metadata": {},
   "outputs": [
    {
     "data": {
      "text/plain": [
       "{'timestamp': 1583735400.0,\n",
       " 'info': {'code': '2330',\n",
       "  'channel': '2330.tw',\n",
       "  'name': '台積電',\n",
       "  'fullname': '台灣積體電路製造股份有限公司',\n",
       "  'time': '2020-03-09 14:30:00'},\n",
       " 'realtime': {'latest_trade_price': '305.50',\n",
       "  'trade_volume': '7329',\n",
       "  'accumulate_trade_volume': '87466',\n",
       "  'best_bid_price': ['305.50', '305.00', '304.50', '304.00', '303.50'],\n",
       "  'best_bid_volume': ['539', '5003', '577', '1704', '286'],\n",
       "  'best_ask_price': ['306.00', '306.50', '307.00', '307.50', '308.00'],\n",
       "  'best_ask_volume': ['180', '200', '334', '355', '464'],\n",
       "  'open': '307.50',\n",
       "  'high': '310.00',\n",
       "  'low': '305.50'},\n",
       " 'success': True}"
      ]
     },
     "execution_count": 7,
     "metadata": {},
     "output_type": "execute_result"
    }
   ],
   "source": [
    "# 使用 realtime 取得台積電 (2330) 之即時股票資料\n",
    "stock = twstock.realtime.get('2330')\n",
    "stock"
   ]
  },
  {
   "cell_type": "code",
   "execution_count": null,
   "metadata": {},
   "outputs": [],
   "source": []
  }
 ],
 "metadata": {
  "kernelspec": {
   "display_name": "Python 3",
   "language": "python",
   "name": "python3"
  },
  "language_info": {
   "codemirror_mode": {
    "name": "ipython",
    "version": 3
   },
   "file_extension": ".py",
   "mimetype": "text/x-python",
   "name": "python",
   "nbconvert_exporter": "python",
   "pygments_lexer": "ipython3",
   "version": "3.7.4"
  }
 },
 "nbformat": 4,
 "nbformat_minor": 2
}

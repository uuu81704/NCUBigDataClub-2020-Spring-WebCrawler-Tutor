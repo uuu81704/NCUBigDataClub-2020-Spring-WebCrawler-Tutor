{
 "cells": [
  {
   "cell_type": "markdown",
   "metadata": {},
   "source": [
    "# 大數據研究社 Python入門\n",
    "這份教材是給有學過其他語言但沒學過Python，或是0基礎的同學的快速入門。"
   ]
  },
  {
   "cell_type": "markdown",
   "metadata": {},
   "source": [
    "# 認識Python\n",
    "-\t1991年由吉多·范羅蘇姆（Guido van Rossum）創造的高階語言\n",
    "-\t名稱由來：蒙提派森馬戲團（Monty <span style = \"color:red\">Python</span>'s Flying Circus）\n"
   ]
  },
  {
   "cell_type": "markdown",
   "metadata": {},
   "source": [
    "## Python簡介\n",
    "-\t直譯式語言：程式碼為一句一句直接執行，不須經過編譯（Compile）動作\n",
    "    -  直譯器（Interpretor）：CPython（目前<a href=\"https://www.python.org\">由Python基金會</a>管理）\n",
    "-\t物件導向（Object Oriented）\n",
    "-\t垃圾回收（Garbage Collection）功能\n",
    "-\t為開放的原始碼（Open Source）\n",
    "    -   大量套件（Package）或模組（Module）"
   ]
  },
  {
   "cell_type": "markdown",
   "metadata": {},
   "source": [
    "## Python可以做什麼？\n",
    "-\t設計遊戲\n",
    "-\t動態網頁\n",
    "-\t資料科學與大數據分析\n",
    "-\t人工智慧與機器學習\n",
    "-\t網路爬蟲\n",
    "-\tGoogle搜尋\n"
   ]
  },
  {
   "cell_type": "markdown",
   "metadata": {},
   "source": [
    "## 註解\n",
    "-\t單行：#\n",
    "-\t多行：以「'''　'''」或「\"\"\"　\"\"\"」包裹（使用Jupyter Notebook時，注意不能放最後一段）\n",
    "\n"
   ]
  },
  {
   "cell_type": "code",
   "execution_count": null,
   "metadata": {},
   "outputs": [],
   "source": [
    "#這是註解\n",
    "print(\"hello world\")"
   ]
  },
  {
   "cell_type": "code",
   "execution_count": null,
   "metadata": {},
   "outputs": [],
   "source": [
    "#這是Python彩蛋\n",
    "import this"
   ]
  },
  {
   "cell_type": "markdown",
   "metadata": {},
   "source": [
    "## 函數查詢\n",
    "- dir(\\__builtins\\__)：列出內建函數\n",
    "- help()：查詢函數的使用說明"
   ]
  },
  {
   "cell_type": "code",
   "execution_count": null,
   "metadata": {},
   "outputs": [],
   "source": [
    "dir(__builtins__)"
   ]
  },
  {
   "cell_type": "code",
   "execution_count": null,
   "metadata": {},
   "outputs": [],
   "source": [
    "help(print)"
   ]
  },
  {
   "cell_type": "markdown",
   "metadata": {},
   "source": [
    "## 認識變數（Variables）\n",
    "- 每個變數都是物件\n",
    "- 動態型別\n",
    "    - 宣告變數時不需指定型別\n",
    "- 變數命名\n",
    "    - Python寫作風格：文字間以底線連接（例：example_variable）\n",
    "    - 注意大小寫：Var與var會是不同的兩個變數\n",
    "    - 不建議使用的變數名稱：系統保留字與內建函數\n",
    "        - 內建函數：https://www.w3schools.com/python/python_ref_functions.asp\n",
    "        - 系統保留字：https://www.w3schools.com/python/python_ref_keywords.asp\n",
    "- 資料型態\n",
    "    - 整數（int）\n",
    "    - 浮點數（float）\n",
    "    - 布林值（boolean）：true、false\n",
    "    - 字串（string）\n",
    "    - 串列（list）、元組（tuple）、字典（dict）、集合（set）\n",
    "- type()函數可回傳資料型態\n",
    "- isInstance()\n",
    "- 關鍵字del可刪除變數"
   ]
  },
  {
   "cell_type": "markdown",
   "metadata": {},
   "source": [
    "```python\n",
    "a = 5\n",
    "print(type(a))\n",
    "b = 5.0\n",
    "print(type(b))\n",
    "s = 'apple'\n",
    "print(type(s))\n",
    "print(a + b, type(a + b))\n",
    "print(isinstance(b, float))\n",
    "```"
   ]
  },
  {
   "cell_type": "code",
   "execution_count": null,
   "metadata": {},
   "outputs": [],
   "source": []
  },
  {
   "cell_type": "markdown",
   "metadata": {},
   "source": [
    "## 強制資料型態轉換\n",
    "- int()、float()、str()等直接以資料型態為名的函數可轉換變數的型態"
   ]
  },
  {
   "cell_type": "code",
   "execution_count": null,
   "metadata": {},
   "outputs": [],
   "source": [
    "a = 5\n",
    "b = float(a)\n",
    "print(b, type(b))\n",
    "c = str(b)\n",
    "print(c, type(c))\n",
    "#d = \"abc\"\n",
    "#print(type(int(d)))"
   ]
  },
  {
   "cell_type": "markdown",
   "metadata": {},
   "source": [
    "## 輸入\n",
    "- input()"
   ]
  },
  {
   "cell_type": "code",
   "execution_count": null,
   "metadata": {},
   "outputs": [],
   "source": [
    "name = input(\"請輸入姓名：\")\n",
    "print(\"%s你好，歡迎\" % name)"
   ]
  },
  {
   "cell_type": "markdown",
   "metadata": {},
   "source": [
    "## 變數位址\n",
    "- id()：獲得變數位址"
   ]
  },
  {
   "cell_type": "code",
   "execution_count": null,
   "metadata": {},
   "outputs": [],
   "source": [
    "a = 10\n",
    "print(id(a))\n",
    "b = 10\n",
    "print(id(b))\n",
    "print(a is b, \"\\n\")\n",
    "\n",
    "\n",
    "a = \"python\"\n",
    "print(id(a))\n",
    "b = \"python\"\n",
    "print(id(b))\n",
    "print(a is b, \"\\n\")\n",
    "\n",
    "a = 10000\n",
    "print(id(a))\n",
    "b = 10000\n",
    "print(id(b))\n",
    "print(a is b, \"\\n\")\n",
    "\n",
    "a = 10000\n",
    "print(id(a))\n",
    "b = a\n",
    "print(id(b))\n",
    "print(a is b, \"\\n\")"
   ]
  },
  {
   "cell_type": "markdown",
   "metadata": {},
   "source": [
    "## 字串\n",
    "- 以兩個「'」或「\"」包裹的內容\n",
    "- 不可變的變數\n",
    "- 多個字串的連接：使用「+」\n",
    "    - 每次使用「+」都會創立新的物件，為什麼？\n",
    "- 字串可以與整數相乘\n",
    "- 多行字串：以兩個「'''」或兩個「\"\"\"」包裹\n",
    "    - 若希望字串為單行，需在換行處加上「\\」 \n",
    "- 跳脫字元（Escape Character）\n",
    "    - 在特殊字元前加上「\\」\n",
    "    - 換行符號：\\n\n",
    "    - 加上r可以取消跳脫字元\n",
    "- 以下三者可刪除空白字元\n",
    "    - lstrip()：刪除字串左邊空白\n",
    "    - rstrip()：刪除字串右邊空白\n",
    "    - strip()：刪除字串頭尾空白\n",
    "- 以下三者可改變string的大小寫\n",
    "    - lower()：將字串改為小寫字\n",
    "    - upper()：將字串改為大寫字\n",
    "    - <span style = \"color:red\">title()</span>：將字串改為第一個字母為大寫、其餘小寫\n",
    "- 可用replace()取代字串內容"
   ]
  },
  {
   "cell_type": "code",
   "execution_count": null,
   "metadata": {
    "scrolled": true
   },
   "outputs": [],
   "source": [
    "#字串可以相加\n",
    "str4 = \"    Python\"\n",
    "str5 = \"is fun to learn.\"\n",
    "str6 = str4 + \" \" + str5\n",
    "print(str6)\n",
    "print(str6.strip())\n",
    "print(str6.title())\n",
    "\n",
    "#字串可以與整數相乘\n",
    "print(str4 * 5)"
   ]
  },
  {
   "cell_type": "code",
   "execution_count": null,
   "metadata": {},
   "outputs": [],
   "source": [
    "a = \"123\"\n",
    "print(id(a))\n",
    "\n",
    "b = \"354\"\n",
    "print(id(b))\n",
    "\n",
    "#每次用到 +，都會建立一個新物件\n",
    "a += b\n",
    "print(id(a))\n",
    "\n",
    "c = a + b\n",
    "print(id(c))\n",
    "\n",
    "c = a + b\n",
    "print(id(c))"
   ]
  },
  {
   "cell_type": "code",
   "execution_count": null,
   "metadata": {},
   "outputs": [],
   "source": [
    "#字串可以與整數相乘\n",
    "string1 = \"abc\"\n",
    "print(string1 * 5)\n",
    "\n",
    "string2 = \"123\"\n",
    "print(string2 * 5)\n",
    "\n",
    "print(int(string2) * 5)"
   ]
  },
  {
   "cell_type": "code",
   "execution_count": null,
   "metadata": {
    "scrolled": true
   },
   "outputs": [],
   "source": [
    "str1 = \"\"\"若字串為多行，需使用三個引號包覆字串，\\\n",
    "並以「\\」讓字串維持一行的狀態！\"\"\"\n",
    "print(str1)"
   ]
  },
  {
   "cell_type": "code",
   "execution_count": null,
   "metadata": {
    "scrolled": true
   },
   "outputs": [],
   "source": [
    "#跳脫字元範例\n",
    "str2 = \"想印出\\\"或\\\\，要加上反斜線\"\n",
    "print(str2)\n",
    "\n",
    "str3 = \"這是第一句，\\n這是第二句\"\n",
    "print(str3)\n",
    "\n",
    "str3 = r\"這是第一句，\\n這是第二句\"\n",
    "print(str3)"
   ]
  },
  {
   "cell_type": "markdown",
   "metadata": {},
   "source": [
    "## 字元\n",
    "- <a href = \"https://zh.wikipedia.org/wiki/ASCII\">ASCII</a>\n",
    "- chr()：傳回字元的ASCII碼或Unicode碼\n",
    "- ord()：傳回以ASCII或Unicode顯示的字元"
   ]
  },
  {
   "cell_type": "code",
   "execution_count": null,
   "metadata": {
    "scrolled": true
   },
   "outputs": [],
   "source": [
    "char = \"a\"\n",
    "print(ord(char))\n",
    "\n",
    "num = 98\n",
    "print(chr(num))"
   ]
  },
  {
   "cell_type": "markdown",
   "metadata": {},
   "source": [
    "# print()的格式化輸出\n",
    "- print(\" ...... \" %  (變數))\n",
    "    - %d：整數\n",
    "    - %f：浮點數\n",
    "    - %s：字串\n",
    "- print(\" ...{}... \".format(變數))"
   ]
  },
  {
   "cell_type": "code",
   "execution_count": null,
   "metadata": {
    "scrolled": true
   },
   "outputs": [],
   "source": [
    "var1 = var2 = var3 = 10\n",
    "print(\"var1 = %d, var2 = %d, var3 = %d\" % (var1, var2, var3))\n",
    "\n",
    "var4, var5, var6 = 10, 20, 30\n",
    "print(\"var4 = %d, var5 = %d, var6 = %d\" % (var4, var5, var6))\n",
    "\n",
    "var5, var6 = var6, var5\n",
    "print(\"var5 = %d, var6 = %d\" % (var5, var6))\n",
    "\n",
    "#使用.format達到與上方一樣效果\n",
    "print(\"var5 = {}, var6 = {}\".format(var5, var6))\n",
    "\n",
    "#{}內的值可填入0至n-1，若空白則為從0開始\n",
    "print(\"var4 = {2}, var5 = {1}, var6 = {0}\".format(var6, var5, var4))"
   ]
  },
  {
   "cell_type": "markdown",
   "metadata": {},
   "source": [
    "## 條件判斷\n",
    "- if-elif-else\n",
    "- 邏輯運算子：and(&)、or(|)、not\n",
    "- 關係運算子：>、==、<"
   ]
  },
  {
   "cell_type": "code",
   "execution_count": null,
   "metadata": {},
   "outputs": [],
   "source": [
    "score = input(\"請輸入分數：\")\n",
    "if int(score) >= 90:\n",
    "    print(\"A\")                               #！！！注意，一定要縮排！！！\n",
    "elif(int(score) >= 80 and int(score) < 90):\n",
    "    print(\"B\")\n",
    "elif(int(score) >= 70 and int(score) < 80):\n",
    "    print(\"C\")\n",
    "elif(int(score) >= 60 and int(score) < 70):\n",
    "    print(\"D\")\n",
    "else:\n",
    "    print(\"F\")"
   ]
  },
  {
   "cell_type": "code",
   "execution_count": null,
   "metadata": {},
   "outputs": [],
   "source": [
    "score = input(\"請輸入分數：\")\n",
    "if int(score) >= 80 and int(score) < 90:\n",
    "    print(\"a\")\n",
    "if int(score) >= 80 & int(score) < 90:\n",
    "    print(\"b\")\n",
    "if (int(score) >= 80) & (int(score) < 90):\n",
    "    print(\"c\")"
   ]
  },
  {
   "cell_type": "markdown",
   "metadata": {},
   "source": [
    "## 認識list\n",
    "-\t類似於陣列(Array)，但在記憶體中並非連續\n",
    "-   以[ ]包裹內容\n",
    "-   由串列名稱和索引值組成，索引值從0開始\n",
    "-\t串列名稱[索引值]：取得元素\n",
    "-\t可同時儲存不同資料型態\n",
    "-\t索引值若為負，代表從後面數來（例：list[-1]代表最後一個元素）\n",
    "-\t可更改、可相加、可乘、可刪除"
   ]
  },
  {
   "cell_type": "code",
   "execution_count": null,
   "metadata": {
    "scrolled": true
   },
   "outputs": [],
   "source": [
    "subjects = [\"HardD\",\"程式設計\",\"資料與檔案結構\",\"資料庫管理\",\"網頁程式設計\"]\n",
    "print(type(subjects))\n",
    "print(subjects)\n",
    "print(subjects[0])\n",
    "print(subjects[-1])\n",
    "print(subjects[1:4])      #list[start:end:step]，step為每隔幾個元素\n",
    "print(subjects[:])\n",
    "del subjects[0]\n",
    "print(subjects)"
   ]
  },
  {
   "cell_type": "code",
   "execution_count": null,
   "metadata": {},
   "outputs": [],
   "source": [
    "#賦值\n",
    "list1 = [1,2,3]\n",
    "list2 = list1\n",
    "print(id(list1))\n",
    "print(id(list2))\n",
    "print(list1 is list2, \"\\n\")\n",
    "\n",
    "#copy\n",
    "list1 = [1,2,3]\n",
    "list2 = list1[:]        # 相等於list2 = list1.copy()\n",
    "print(id(list1))\n",
    "print(id(list2))\n",
    "print(list1 is list2, \"\\n\")\n",
    "\n",
    "#使用copy時，子物件會指向同一位址\n",
    "list1 = [1,2,3,[4,5,6]]\n",
    "list2 = list1.copy()\n",
    "print(id(list1))\n",
    "print(id(list2))\n",
    "print(list1 is list2)\n",
    "print(id(list1[3]))\n",
    "print(id(list2[3]))\n",
    "print(list1[3] is list2[3], \"\\n\")\n",
    "\n",
    "#deepcopy\n",
    "import copy\n",
    "list1 = [1,2,3,[4,5,6]]\n",
    "list2 = copy.deepcopy(list1)\n",
    "print(id(list1))\n",
    "print(id(list2))\n",
    "print(list1 is list2)\n",
    "print(id(list1[3]))\n",
    "print(id(list2[3]))\n",
    "print(list1[3] is list2[3], \"\\n\")"
   ]
  },
  {
   "cell_type": "code",
   "execution_count": null,
   "metadata": {},
   "outputs": [],
   "source": [
    "#多重指定\n",
    "a, b, *c = 1, 2, 3, 4, 5, 6\n",
    "print(a, b, c)\n",
    "\n",
    "x, *y, z = 1, 2, 3, 4, 5, 6\n",
    "print(x, y, z)"
   ]
  },
  {
   "cell_type": "markdown",
   "metadata": {},
   "source": [
    "## list可使用的方法\n",
    "- max()、min()：最大值、最小值，當list裡有字串時無法使用\n",
    "- sum()：總和\n",
    "- <span style = \"color:red\">len()</span>：元素數量\n",
    "- <span style = \"color:red\">append()</span>：在尾端增加元素到list中\n",
    "- <span style = \"color:red\">insert()</span>：在某個位置插入元素\n",
    "- <span style = \"color:red\">pop()</span>：在刪除指定位置元素的同時，回傳刪除的值（若未指明要刪除值，一律刪除末端的元素）\n",
    "- <span style = \"color:red\">remove()</span>：刪除指定的元素\n",
    "- reverse()：顛倒串列元素\n",
    "- sort()：將list由小到大排序\n",
    "    - sorted()：將list由小到大排序，並儲存至新變數\n",
    "- index()：特定元素第一次出現的索引值\n",
    "- count()：特定元素內容出現的次數\n",
    "- <span style = \"color:red\">extend()</span>：連接兩個串列"
   ]
  },
  {
   "cell_type": "code",
   "execution_count": null,
   "metadata": {},
   "outputs": [],
   "source": [
    "list1 = [1,2,3]\n",
    "list1.append(4)\n",
    "list1.append([5,6])\n",
    "list1.append({\"num1\":7,\"num2\":8})\n",
    "print(list1)\n",
    "print(len(list1), \"\\n\")\n",
    "\n",
    "list1 = [1,2,3]\n",
    "list2 = [4,5,6]\n",
    "list1.append(list2)\n",
    "print(list1)\n",
    "list1.reverse()\n",
    "print(list1, \"\\n\")\n",
    "\n",
    "list1 = [1,2,3]\n",
    "list2 = [4,5,6]\n",
    "list1.extend(list2)\n",
    "print(list1, \"\\n\")\n",
    "\n",
    "list_fruit = [\"cherry\", \"apple\", \"durian\", \"banana\"]\n",
    "list_fruit.sort()\n",
    "print(list_fruit)\n",
    "list_fruit.sort(reverse = True)\n",
    "print(list_fruit, \"\\n\")\n",
    "\n",
    "list_fruit = [\"cherry\", \"apple\", \"durian\", \"banana\"]\n",
    "new_fruit_list = sorted(list_fruit)\n",
    "print(list_fruit)\n",
    "print(new_fruit_list, \"\\n\")"
   ]
  },
  {
   "cell_type": "markdown",
   "metadata": {},
   "source": [
    "## string與list的關聯\n",
    "- 若對一個字串（string）使用split()，會將字串轉換為list\n",
    "    - split()預設為以空格區分元素\n",
    "- string也可使用len()、count()、index()等方法"
   ]
  },
  {
   "cell_type": "code",
   "execution_count": null,
   "metadata": {},
   "outputs": [],
   "source": [
    "string = \"Python is fun to learn.\"\n",
    "print(len(string))\n",
    "print(string.index(\"is\"))\n",
    "print(string)\n",
    "\n",
    "string_list = string.split()\n",
    "print(string_list)\n",
    "string_list.insert(2,\"very\")\n",
    "print(string_list)\n",
    "popped_item = string_list.pop(2)\n",
    "print(popped_item)\n",
    "print(string_list)"
   ]
  },
  {
   "cell_type": "code",
   "execution_count": null,
   "metadata": {},
   "outputs": [],
   "source": [
    "#英文文章字數計算\n",
    "file = \"text_en.txt\"     \n",
    "file_obj = open(file)       #用Python打開.txt檔\n",
    "lines = file_obj.read()\n",
    "file_obj.close()            #使用open，就要close()\n",
    "\n",
    "lines_split = lines.split()\n",
    "print(len(lines_split))"
   ]
  },
  {
   "cell_type": "code",
   "execution_count": null,
   "metadata": {},
   "outputs": [],
   "source": [
    "#中文文章字數計算\n",
    "with open('text_ch.txt', 'r', encoding='UTF-8') as file:\n",
    "    lines = file.read()\n",
    "    \n",
    "    new_lines = lines.replace(\"，\", \"\")\n",
    "    new_lines = new_lines.replace(\"。\", \"\")\n",
    "    new_lines = new_lines.replace(\"\\n\", \"\")\n",
    "    print(len(new_lines)) "
   ]
  },
  {
   "cell_type": "markdown",
   "metadata": {},
   "source": [
    "## 認識tuple\n",
    "- 元素值與元素個數皆不可更動（不可更動的list）\n",
    "- 以( )包裹內容\n",
    "- 與list一樣使用「元組名稱[索引值]」取得元素，且索引值從0開始\n",
    "- 會修改到元素內容的方法都不可使用，只有不會修改到元素內容的方法可以使用"
   ]
  },
  {
   "cell_type": "code",
   "execution_count": null,
   "metadata": {},
   "outputs": [],
   "source": [
    "subjects_tuple = (\"HardD\",\"程式設計\",\"資料與檔案結構\",\"資料庫管理\",\"網頁程式設計\")\n",
    "print(type(subjects_tuple))\n",
    "print(subjects_tuple)\n",
    "print(subjects_tuple[0])\n",
    "print(subjects_tuple[-1])\n",
    "print(subjects_tuple[1:4]) \n",
    "print(subjects_tuple[:])"
   ]
  },
  {
   "cell_type": "code",
   "execution_count": null,
   "metadata": {},
   "outputs": [],
   "source": [
    "#元組可以使用的方法\n",
    "print(len(subjects_tuple))\n",
    "print(max(subjects_tuple))\n",
    "print(subjects_tuple.index(\"HardD\"))"
   ]
  },
  {
   "cell_type": "code",
   "execution_count": null,
   "metadata": {},
   "outputs": [],
   "source": [
    "#以下方法皆無法使用於元組\n",
    "#subjects_tuple[0] = \" \"\n",
    "#subjects_tuple.append(\"統計學\")\n",
    "#subjects_tuple.pop()\n",
    "\n",
    "#若要修改元組內容，可以重新定義元組\n",
    "#subjects_tuple = (\"HardD\", \"程式設計\", \"資料與檔案結構\", \"資料庫管理\", \"網頁程式設計\", \"統計學\")\n",
    "#print(subjects_tuple)"
   ]
  },
  {
   "cell_type": "markdown",
   "metadata": {},
   "source": [
    "## 打包多個物件\n",
    "- zip()：將多個物件打包成zip物件，可用於list和tuple\n",
    "    - 使用zip(*var)來拆開zip物件"
   ]
  },
  {
   "cell_type": "code",
   "execution_count": null,
   "metadata": {},
   "outputs": [],
   "source": [
    "info = (\"Department\", \"Class\", \"Student Number\", \"Name\")\n",
    "student = [\"MIS\", \"A\", \"403999\", \"David\"]\n",
    "student_data = zip(info, student)\n",
    "print(student_data)\n",
    "print(type(student_data), \"\\n\")\n",
    "\n",
    "student_data_list = list(student_data)\n",
    "print(student_data_list)\n",
    "print(type(student_data_list), \"\\n\")\n",
    "\n",
    "student_data_tuple = tuple(student_data)\n",
    "print(student_data_tuple)\n",
    "print(type(student_data_tuple), \"\\n\")"
   ]
  },
  {
   "cell_type": "markdown",
   "metadata": {},
   "source": [
    "## 元組的優點\n",
    "- 可以保護某些不需改變的資料\n",
    "    - 例：影像處理時物件的長、寬、每像素的色彩資料\n",
    "- 增加程式執行速度\n",
    "    - 佔用較少的系統資源"
   ]
  },
  {
   "cell_type": "markdown",
   "metadata": {},
   "source": [
    "## 認識dict\n",
    "- 非序列：不像list和tuple可依索引值取得元素內容\n",
    "- 以key取得值value\n",
    "- 以{ }包裹內容，其中每筆資料以key: value的方式配對\n",
    "     -\t例：{ key 1: value 1, key 2: value 2, ……, key n, value n }\n",
    "- 使用「字典名稱[key]」取得元素\n",
    "- key不可重複，value可以重複"
   ]
  },
  {
   "cell_type": "code",
   "execution_count": null,
   "metadata": {},
   "outputs": [],
   "source": [
    "menu = {\"明爐燒鴨飯\": 80, \"鴨腿飯\": 95, \"油雞腿飯\": 85}\n",
    "print(menu)\n",
    "print(type(menu))\n",
    "print(\"燒鴨飯一碗%d元\" % menu[\"明爐燒鴨飯\"])"
   ]
  },
  {
   "cell_type": "code",
   "execution_count": null,
   "metadata": {},
   "outputs": [],
   "source": [
    "#增加字典元素 => dict[new key] = value\n",
    "menu[\"三寶飯\"] = 80\n",
    "print(menu)\n",
    "\n",
    "#修改字典元素 => dict[key] = new value\n",
    "menu[\"三寶飯\"] = 85\n",
    "print(menu)\n",
    "\n",
    "#刪除字典元素 => del dict[key]\n",
    "del menu[\"三寶飯\"]\n",
    "print(menu)"
   ]
  },
  {
   "cell_type": "markdown",
   "metadata": {},
   "source": [
    "## dict可使用的方法\n",
    "- pop()：刪除指定key的value，同時回傳該value\n",
    "- popitem()：刪除字典內最後加入的元素，同時回傳元組型態的(key, value)\n",
    "    - 3.7版以前是隨機刪除\n",
    "- update()：合併兩個dict\n",
    "- fromkeys()：一個建立字典的方法\n",
    "- get()：搜尋字典的key，若存在則回傳value\n",
    "- setdefault()：與get()類似，但若搜尋的key不在dict內，會將key: value加入dict"
   ]
  },
  {
   "cell_type": "code",
   "execution_count": null,
   "metadata": {
    "scrolled": true
   },
   "outputs": [],
   "source": [
    "drinks_menu = {\"紅茶拿鐵\": 45, \"綠茶拿鐵\": 45, \"鐵觀音拿鐵\": 45, \"冬瓜茶\": 20, \"青草茶\": 15}\n",
    "\n",
    "#pop()\n",
    "popped_item = drinks_menu.pop(\"紅茶拿鐵\")\n",
    "print(popped_item)\n",
    "print(drinks_menu, \"\\n\")\n",
    "\n",
    "#popitem()\n",
    "randomly_popped_item = drinks_menu.popitem()\n",
    "print(randomly_popped_item)\n",
    "print(drinks_menu, \"\\n\")\n",
    "\n",
    "#fromkeys()\n",
    "new_drinks = [\"決明子茶\", \"仙草茶\", \"烏龍茶\"]\n",
    "drinks_menu2 =  dict.fromkeys(new_drinks)\n",
    "print(drinks_menu2, \"\\n\")\n",
    "\n",
    "#update()\n",
    "drinks_menu2 =  {\"決明子茶\": 35, \"仙草茶\": 25, \"烏龍茶\": 30}\n",
    "drinks_menu.update(drinks_menu2)\n",
    "print(drinks_menu, \"\\n\")\n",
    "\n",
    "#get()\n",
    "price = drinks_menu.get(\"仙草茶\")\n",
    "print(price)\n",
    "price = drinks_menu.get(\"綠豆湯\")\n",
    "print(price)\n",
    "print(drinks_menu, \"\\n\")\n",
    "\n",
    "#setdefault()\n",
    "price = drinks_menu.setdefault(\"仙草茶\")\n",
    "print(price)\n",
    "price = drinks_menu.setdefault(\"綠豆湯\")\n",
    "print(price)\n",
    "print(drinks_menu, \"\\n\")"
   ]
  },
  {
   "cell_type": "markdown",
   "metadata": {},
   "source": [
    "## 字典的copy\n",
    "- 與list一樣，分為copy與deepcopy"
   ]
  },
  {
   "cell_type": "code",
   "execution_count": null,
   "metadata": {},
   "outputs": [],
   "source": [
    "#copy\n",
    "drinks_menu = {\"紅茶拿鐵\": 45, \"綠茶拿鐵\": 45, \"鐵觀音拿鐵\": 45, \"冬瓜茶\": 20, \"青草茶\": 15}\n",
    "menu_dup = drinks_menu.copy()\n",
    "print(id(drinks_menu))\n",
    "print(id(menu_dup))\n",
    "print(drinks_menu is menu_dup, \"\\n\")\n",
    "\n",
    "#使用copy時，子物件會指向同一位址\n",
    "dict1 = {\"a\": 1, \"b\": 2, \"c\": 3, \"d\": [4,5,6]}\n",
    "dict2 = dict1.copy()\n",
    "print(id(dict1))\n",
    "print(id(dict2))\n",
    "print(dict1 is dict2)\n",
    "print(id(dict1[\"d\"]))\n",
    "print(id(dict2[\"d\"]))\n",
    "print(dict1[\"d\"] is dict2[\"d\"], \"\\n\")\n",
    "\n",
    "#deepcopy\n",
    "import copy\n",
    "dict1 = {\"a\": 1, \"b\": 2, \"c\": 3, \"d\": [4,5,6]}\n",
    "dict2 = copy.deepcopy(dict1)\n",
    "print(id(dict1))\n",
    "print(id(dict2))\n",
    "print(dict1 is dict2)\n",
    "print(id(dict1[\"d\"]))\n",
    "print(id(dict2[\"d\"]))\n",
    "print(dict1[\"d\"] is dict2[\"d\"], \"\\n\")"
   ]
  },
  {
   "cell_type": "markdown",
   "metadata": {},
   "source": [
    "```python\n",
    "#dict在遊戲中的應用\n",
    "soldier0 = {\"health\": 100, \"speed\": \"normal\", \"xpos\": 100, \"ypos\": 100}\n",
    "soldier1 = {\"health\": 100, \"speed\": \"normal\", \"xpos\": 50, \"ypos\": 75}\n",
    "soldier2 = {\"health\": 100, \"speed\": \"normal\", \"xpos\": 30, \"ypos\": 40}\n",
    "heavily_armored_soldier0 = {\"health\": 200, \"speed\": \"slow\", \"xpos\": 150, \"ypos\": 120}\n",
    "heavily_armored_soldier1 = {\"health\": 200, \"speed\": \"slow\", \"xpos\": 130, \"ypos\": 140}\n",
    "```"
   ]
  },
  {
   "cell_type": "markdown",
   "metadata": {},
   "source": [
    "## 將zip物件轉為dict\n",
    "- 使用dict()可以將zip物件轉為dict物件，前提是zip物件只能包含兩個物件"
   ]
  },
  {
   "cell_type": "code",
   "execution_count": null,
   "metadata": {},
   "outputs": [],
   "source": [
    "info = (\"Department\", \"Class\", \"Student Number\", \"Name\",)\n",
    "student = [\"MIS\", \"A\", \"403999\", \"David\"]\n",
    "student_data = zip(info, student)\n",
    "print(student_data)\n",
    "print(type(student_data), \"\\n\")\n",
    "\n",
    "student_data_dict = dict(student_data)\n",
    "print(student_data_dict)\n",
    "\n",
    "#dict1 = ['a', 'b', 'c', 'd']\n",
    "#dict2 = ['e', 'f', 'g', 'h']\n",
    "#dict3 = ['i', 'j', 'k', 'l']\n",
    "#dict_zip = zip(dict1, dict2, dict3)\n",
    "#dict4 = dict(dict_zip)\n",
    "#print(dict4)"
   ]
  },
  {
   "cell_type": "markdown",
   "metadata": {},
   "source": [
    "## 驗證元素是否存在\n",
    "- 「物件1 (not) in 物件2（list、tuple、dict、set）」會回傳 True 或 False\n",
    "- 我們可以用「in」搭配條件條件判斷（if）來驗證元素是否存在\n",
    "    - list：if 元素 (not) in list\n",
    "    - tuple：if 元素 (not) in tuple\n",
    "    - dict：if key (not) in dict"
   ]
  },
  {
   "cell_type": "code",
   "execution_count": null,
   "metadata": {
    "scrolled": true
   },
   "outputs": [],
   "source": [
    "todolist = [\"買菜\", \"拖地\", \"洗衣服\", \"擦窗戶\"]\n",
    "done = input(\"請輸入完成事項: \")\n",
    "if done in todolist:\n",
    "    print(\"事項已完成\")\n",
    "    todolist.remove(done)\n",
    "    print(\"還沒完成的事項有：\", todolist[:])\n",
    "else:\n",
    "    print(\"已完成或無此工作事項\")"
   ]
  },
  {
   "cell_type": "code",
   "execution_count": null,
   "metadata": {},
   "outputs": [],
   "source": [
    "cars = {\"BMW\": 3, \"Benz\": 4, \"Nissan\": 8, \"Toyota\": 15, \"Audi\": 1}\n",
    "demand = input(\"請輸入想查找的二手車品牌： \")\n",
    "if demand in cars:\n",
    "    print(\"本店有%d台二手車是您挑選的品牌\" % cars[demand])\n",
    "else:\n",
    "    print(\"很抱歉，本店沒有您想找的品牌\")"
   ]
  },
  {
   "cell_type": "markdown",
   "metadata": {},
   "source": [
    "## 迴圈\n",
    "- for迴圈\n",
    "    - 可使用迴圈進行遍歷的物件：list、tuple、dict、set、range()\n",
    "    - dict的迴圈較為特別，可依key（keys()）、value（values()）或兩者同時（items()）\n",
    "    - range(start, stop, step)：可產生一等差序列，搭配for可進行一般常見的迴圈形式\n",
    "        - 優點：佔用的記憶體空間較少（只有計數指標需要記憶體）"
   ]
  },
  {
   "cell_type": "code",
   "execution_count": null,
   "metadata": {
    "scrolled": true
   },
   "outputs": [],
   "source": [
    "#list的迴圈\n",
    "fruit_list = [\"apple\", \"banana\", \"cherry\", \"durian\", \"guava\"]\n",
    "print(type(fruit_list))\n",
    "for item in fruit_list:\n",
    "    print(item, end = \" \")\n",
    "\n",
    "#tuple的迴圈\n",
    "fruit_tuple = tuple(fruit_list)\n",
    "print(type(fruit_tuple))\n",
    "for fruit in fruit_tuple:\n",
    "    print(fruit, end = \" \")"
   ]
  },
  {
   "cell_type": "code",
   "execution_count": null,
   "metadata": {},
   "outputs": [],
   "source": [
    "#dict的迴圈\n",
    "\n",
    "ranking = {1: \"Peter\", 2: \"Andy\", 3: \"David\", 4: \"John\", 5: \"Adam\"}\n",
    "\n",
    "#1.依key遍歷:\n",
    "print(\"本次比賽會頒獎給以下名次：\")\n",
    "for position in ranking.keys():\n",
    "    print(\"第%d名\" % position, end = \" \")\n",
    "print(\"\\n\")\n",
    "\n",
    "#2.依value遍歷:\n",
    "print(\"以下為得獎者：\")\n",
    "for name in ranking.values():\n",
    "    print(name, end = \" \")\n",
    "print(\"\\n\")\n",
    "\n",
    "#3.依key和value同時遍歷:\n",
    "print(\"得獎者依序為：\")\n",
    "for position, name in ranking.items():\n",
    "    print(\"第%d名：%s\" % (position, name), end = \"  \")"
   ]
  },
  {
   "cell_type": "code",
   "execution_count": null,
   "metadata": {},
   "outputs": [],
   "source": [
    "x = range(5)\n",
    "print(x)\n",
    "print(type(x), \"\\n\")\n",
    "\n",
    "for num in x:           # 與 for num in range(0,5,1)相同\n",
    "    print(num, end=\" \")\n",
    "print(\"\\n\")\n",
    "    \n",
    "for num in range(1, 10, 2):\n",
    "    print(num, end=\" \")\n",
    "print(\"\\n\")\n",
    "    \n",
    "for num in range(10, 1, -2):\n",
    "    print(num, end=\" \")\n",
    "print(\"\\n\")"
   ]
  },
  {
   "cell_type": "code",
   "execution_count": null,
   "metadata": {},
   "outputs": [],
   "source": [
    "#直接運用range()物件\n",
    "n = int(input(\"請輸入整數：\"))\n",
    "total = sum(range(n + 1))\n",
    "print(\"從1到%d的總和是：%d\" % (n, total))"
   ]
  },
  {
   "cell_type": "code",
   "execution_count": null,
   "metadata": {},
   "outputs": [],
   "source": [
    "#快樂印星星\n",
    "for i in range(10):\n",
    "    for j in range(i + 1):\n",
    "        print(\"*\", end = \"\")\n",
    "    print(\"\\n\")"
   ]
  },
  {
   "cell_type": "code",
   "execution_count": null,
   "metadata": {
    "scrolled": true
   },
   "outputs": [],
   "source": [
    "#計算銀行存款複利\n",
    "cash = 50000\n",
    "rate = 0.02\n",
    "for i in range(5):\n",
    "    cash *= (1 + rate)\n",
    "    print(\"第 %d 年本金和：%d\" % ((i + 1), cash))"
   ]
  },
  {
   "cell_type": "markdown",
   "metadata": {},
   "source": [
    "## 函式 Function\n",
    "\n",
    "- 函式又稱函數，亦稱為method，宣告方法如下："
   ]
  },
  {
   "cell_type": "markdown",
   "metadata": {},
   "source": [
    "```python\n",
    "def 函數名稱(參數值1, 參數值2......):\n",
    "    \"\"\"函數註解\"\"\"\n",
    "    程式碼區塊              # 需縮排\n",
    "    ...\n",
    "    ...\n",
    "    return[回傳值]　　　　　# 可以沒有回傳值，中括號可有可無\n",
    "```"
   ]
  },
  {
   "cell_type": "code",
   "execution_count": null,
   "metadata": {},
   "outputs": [],
   "source": [
    "# 定義函數\n",
    "def give_me_fruit():\n",
    "    print(\"Guava\")\n",
    "    \n",
    "# 呼叫函數\n",
    "give_me_fruit()"
   ]
  },
  {
   "cell_type": "code",
   "execution_count": null,
   "metadata": {},
   "outputs": [],
   "source": [
    "def welcome(name):\n",
    "    \"\"\"一個跟你打招呼的函數\"\"\"\n",
    "    print(\"%s你好，歡迎\" % name)\n",
    "    return\n",
    "\n",
    "welcome(input(\"請輸入姓名：\"))"
   ]
  },
  {
   "cell_type": "code",
   "execution_count": null,
   "metadata": {},
   "outputs": [],
   "source": [
    "def my_max(data):\n",
    "    \"\"\"計算最大值\"\"\"\n",
    "    max_num = data[0]\n",
    "    for i in range(1, len(data)):\n",
    "        if data[i] > max_num:\n",
    "            max_num = data[i]\n",
    "    return max_num        #回傳值為整數\n",
    "\n",
    "num_list = [23, 65, 36, 29, 12, 3, 56, 74]\n",
    "print(\"這個list中的最大值為：%d\" % my_max(num_list))"
   ]
  },
  {
   "cell_type": "code",
   "execution_count": null,
   "metadata": {},
   "outputs": [],
   "source": [
    "help(my_max)"
   ]
  },
  {
   "cell_type": "code",
   "execution_count": null,
   "metadata": {
    "scrolled": true
   },
   "outputs": [],
   "source": [
    "list1 = [1,2,3]\n",
    "def example(*arg):\n",
    "    print(arg)\n",
    "example(*list1)\n",
    "example(list1)"
   ]
  }
 ],
 "metadata": {
  "kernelspec": {
   "display_name": "Python 3",
   "language": "python",
   "name": "python3"
  },
  "language_info": {
   "codemirror_mode": {
    "name": "ipython",
    "version": 3
   },
   "file_extension": ".py",
   "mimetype": "text/x-python",
   "name": "python",
   "nbconvert_exporter": "python",
   "pygments_lexer": "ipython3",
   "version": "3.7.4"
  }
 },
 "nbformat": 4,
 "nbformat_minor": 2
}

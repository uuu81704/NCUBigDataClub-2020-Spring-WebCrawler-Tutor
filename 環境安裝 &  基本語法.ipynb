{
 "cells": [
  {
   "cell_type": "markdown",
   "metadata": {},
   "source": [
    "# 大數據研究社 1450の網頁爬蟲實戰\n",
    "\n",
    "學會爬蟲就可以加入網軍了嗎? 可以領1450嗎? 既然大家都被標題騙來了，就看下去吧ヾ(●゜▽゜●)"
   ]
  },
  {
   "cell_type": "markdown",
   "metadata": {},
   "source": [
    "## 環境安裝 (裝過python3的可以跳過)\n",
    "\n",
    "- 前往[官網下載](https://www.python.org/downloads/)python3的最新版本(3.8)\n",
    "\n",
    "- 執行下載的.exe檔進行安裝\n",
    "- (如下圖) 進入安裝設定的視窗，請**勾選add Python 3.x to Path**的選項，此步驟非常重要!! \n",
    "- (如下圖) 有分2個安裝方式，一個是install now，另一個是customize installation。選上面的**install now**\n",
    "![](https://i.imgur.com/P7Q4VwW.jpg)\n",
    "![](https://i.imgur.com/zldGjdh.png)"
   ]
  },
  {
   "cell_type": "markdown",
   "metadata": {},
   "source": [
    "## 檢查環境\n",
    "Windows\n",
    "- 如果是windows電腦，搜尋並開啟cmd(中文:命令提示字元)，他的介面是一個黑框框，可以讓你輸入指令\n",
    "- 在cmd中輸入`where python`，列出腦上所有的python路徑\n",
    "- 在cmd中輸入`python -V`，顯示電腦預設python的版本，如果是3.6以上版即可\n",
    "- 下載上課需要的套件，在cmd中輸入`pip install beautifulsoup4`，會出現下載進度條。若已安裝過則會顯示我一樣的內容。\n",
    "\n",
    "MacOS\n",
    "- ??? \n",
    "\n",
    "![](https://i.imgur.com/ZrIPjUp.jpg)\n",
    "![](https://i.imgur.com/nCL3L5W.jpg)\n"
   ]
  },
  {
   "cell_type": "markdown",
   "metadata": {},
   "source": [
    "## VS Code文字編輯器安裝\n",
    "- 前往[官網下載](https://code.visualstudio.com/)VS code的最新版本，預設下載是Stable版\n",
    "- 執行下載的.exe檔進行安裝\n",
    "- 可以參考這部影片的前3分鐘，我個人喜歡勾選\"Open with code\"的選項: https://www.youtube.com/watch?v=MlIzFUI1QGA\n",
    "- 如果你有其他專業python編輯器的偏好(Jupyter Spider...)也是OK喔"
   ]
  },
  {
   "cell_type": "markdown",
   "metadata": {},
   "source": [
    "## 為VS Code加上Python擴充功能\n",
    "- 在vs code左邊功能列倒數第二個圖示是擴充功能(Extensions)，點選圖示並搜尋\"Python\"，找到名稱為\"Python\"的擴充功能點擊install就可以了\n",
    "- (還是其實不用擴充就可以run了xd)\n",
    "![](https://i.imgur.com/zf6OYqi.jpg)"
   ]
  },
  {
   "cell_type": "markdown",
   "metadata": {},
   "source": [
    "## 撰寫自己的第一支python程式\n",
    "\n",
    "- 在桌面或任何地方建立一個資料夾，名稱為\"大數據爬蟲教學\"\n",
    "- 把資料夾拖曳進vs code的畫面中然後放開。vs code會使用這個資料夾當作專案資料夾\n",
    "- 左邊Explorer列表中，有\"大數據爬蟲教學\"為名字的專案，點擊第一個圖標(New file)建立一個.py檔\n",
    "- 檔名取為`hello.py`，打上以下內容並執行，看到console印出\"Hello world!\"就恭喜你完成第一支python程式 \n",
    "\n",
    "```python\n",
    "print(\"Hello world!\")\n",
    "```\n",
    "d(d＇∀＇)\n",
    "\n",
    "![](https://i.imgur.com/zgIUxxI.jpg)"
   ]
  }
 ],
 "metadata": {
  "kernelspec": {
   "display_name": "Python 3",
   "language": "python",
   "name": "python3"
  },
  "language_info": {
   "codemirror_mode": {
    "name": "ipython",
    "version": 3
   },
   "file_extension": ".py",
   "mimetype": "text/x-python",
   "name": "python",
   "nbconvert_exporter": "python",
   "pygments_lexer": "ipython3",
   "version": "3.7.4"
  }
 },
 "nbformat": 4,
 "nbformat_minor": 2
}
